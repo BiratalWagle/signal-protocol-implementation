{
 "cells": [
  {
   "cell_type": "code",
   "execution_count": 10,
   "metadata": {},
   "outputs": [],
   "source": [
    "from cryptography.hazmat.backends import default_backend\n",
    "from cryptography.hazmat.primitives import hashes\n",
    "from cryptography.hazmat.primitives.asymmetric import dh, padding, rsa, utils\n",
    "from cryptography.hazmat.primitives.kdf.hkdf import HKDF\n",
    "import hashlib\n",
    "\n",
    "parameters = dh.generate_parameters(generator=2, key_size=512, backend=default_backend())"
   ]
  },
  {
   "cell_type": "code",
   "execution_count": 11,
   "metadata": {},
   "outputs": [],
   "source": [
    "class User: \n",
    "    def __init__(self, name): \n",
    "        self.name = name\n",
    "        \n",
    "        self.identity = parameters.generate_private_key()\n",
    "        self.identity_public_key = self.identity.public_key()\n",
    "\n",
    "        self.Ephemeral = parameters.generate_private_key()\n",
    "        self.Ephemeral_public_key = self.Ephemeral.public_key()\n",
    "\n",
    "        # Need a way to generate this\n",
    "        self.Signed_prekey = parameters.generate_private_key()\n",
    "        self.Signed_prekey_public_key = self.Signed_prekey.public_key()\n",
    "\n",
    "        self.One_time_prekey = parameters.generate_private_key()\n",
    "        self.One_time_prekey_public_key = self.One_time_prekey.public_key()\n",
    "    \n",
    "        # Need a way to generate this \n",
    "        self.Signature = parameters.generate_private_key()\n",
    "        self.Signate_public_key = self.Signature.public_key()\n",
    "\n",
    "class server_user: \n",
    "    def __init__(self, name, identity, signed_prekey, onetime_prekey, signature):\n",
    "        self.name = name\n",
    "        self.identity = identity\n",
    "        self.signed_prekey = signed_prekey\n",
    "        self.onetime_prekey = onetime_prekey\n",
    "        self.signature = signature"
   ]
  },
  {
   "cell_type": "code",
   "execution_count": 12,
   "metadata": {},
   "outputs": [],
   "source": [
    "Alice = User(\"Alice\")\n",
    "Bob = User(\"Bob\")\n",
    "\n",
    "Server = {}\n",
    "Bob_Server = server_user(\"Bob\", Bob.identity_public_key, Bob.Signed_prekey_public_key, Bob.One_time_prekey_public_key, Bob.Signate_public_key)\n",
    "Alice_Server = server_user(\"Alice\", Alice.identity_public_key, Alice.Signed_prekey_public_key, Alice.One_time_prekey_public_key, Alice.Signate_public_key)"
   ]
  },
  {
   "cell_type": "code",
   "execution_count": 14,
   "metadata": {},
   "outputs": [
    {
     "data": {
      "text/plain": [
       "b'X\\x80\\x95\\x16\\xd6\\x02\\xd9~&\\x1b\\x88\\xf8hG\\x11I_*k[W\\x1c\\xacs\\x02\\xc5\\xd8\\xfeZV6m'"
      ]
     },
     "execution_count": 14,
     "metadata": {},
     "output_type": "execute_result"
    }
   ],
   "source": [
    "DH1 = Alice.identity.exchange(Bob.Signed_prekey_public_key)\n",
    "DH2 = Alice.Ephemeral.exchange(Bob.identity_public_key)\n",
    "DH3 = Alice.Ephemeral.exchange(Bob.Signed_prekey_public_key)\n",
    "DH4 = Alice.Ephemeral.exchange(Bob.One_time_prekey_public_key)\n",
    "\n",
    "# a_shared_key = a_private_key.exchange(b_peer_public_key)\n",
    "# b_shared_key = b_private_key.exchange(a_peer_public_key)\n",
    "\n",
    "derived_key_Alice = HKDF(\n",
    "    algorithm=hashes.SHA256(),\n",
    "    length=32,\n",
    "    salt=None,\n",
    "    info=b'handshake data',\n",
    ").derive(DH1 + DH2 + DH3 + DH4) \n",
    "\n",
    "derived_key_Alice"
   ]
  },
  {
   "cell_type": "code",
   "execution_count": 23,
   "metadata": {},
   "outputs": [],
   "source": [
    "def getDerivedKey1(User1, User2): \n",
    "    DH1 = User1.identity.exchange(User2.Signed_prekey_public_key)\n",
    "    DH2 = User1.Ephemeral.exchange(User2.identity_public_key)\n",
    "    DH3 = User1.Ephemeral.exchange(User2.Signed_prekey_public_key)\n",
    "    DH4 = User1.Ephemeral.exchange(User2.One_time_prekey_public_key)\n",
    "    derived_key = HKDF(algorithm=hashes.SHA256(), length=32, salt=None, info=b'handshake data',).derive(DH1 + DH2 + DH3 + DH4)\n",
    "    return derived_key\n",
    "\n",
    "\n",
    "def getDerivedKey2(User1, User2): \n",
    "    DH1 = User2.Signed_prekey.exchange(User1.identity_public_key)\n",
    "    DH2 = User2.identity.exchange(User1.Ephemeral_public_key)\n",
    "    DH3 = User2.Signed_prekey.exchange(User1.Ephemeral_public_key)\n",
    "    DH4 = User2.One_time_prekey.exchange(User1.Ephemeral_public_key)\n",
    "    derived_key = HKDF(algorithm=hashes.SHA256(), length=32, salt=None, info=b'handshake data',).derive(DH1 + DH2 + DH3 + DH4)\n",
    "    return derived_key"
   ]
  },
  {
   "cell_type": "code",
   "execution_count": 17,
   "metadata": {},
   "outputs": [
    {
     "data": {
      "text/plain": [
       "b'X\\x80\\x95\\x16\\xd6\\x02\\xd9~&\\x1b\\x88\\xf8hG\\x11I_*k[W\\x1c\\xacs\\x02\\xc5\\xd8\\xfeZV6m'"
      ]
     },
     "execution_count": 17,
     "metadata": {},
     "output_type": "execute_result"
    }
   ],
   "source": [
    "DH1 = Bob.Signed_prekey.exchange(Alice.identity_public_key)\n",
    "DH2 = Bob.identity.exchange(Alice.Ephemeral_public_key)\n",
    "DH3 = Bob.Signed_prekey.exchange(Alice.Ephemeral_public_key)\n",
    "DH4 = Bob.One_time_prekey.exchange(Alice.Ephemeral_public_key)\n",
    "\n",
    "derive_key_Bob = HKDF(\n",
    "    algorithm=hashes.SHA256(),\n",
    "    length=32,\n",
    "    salt=None,\n",
    "    info=b'handshake data',\n",
    ").derive(DH1 + DH2 + DH3 + DH4) \n",
    "\n",
    "derive_key_Bob"
   ]
  },
  {
   "cell_type": "code",
   "execution_count": 17,
   "metadata": {},
   "outputs": [
    {
     "data": {
      "text/plain": [
       "b'\"f\\xb3~\\xf5\\x8fJ\\xd7\\x9a\\xdb\\xb4\\xee/\\x90\\x91\\x0b\\xb1\\x90\\x94]\\x972\\rl\\xfd\\xd2\\xaah\\x8b\\x8bmo'"
      ]
     },
     "execution_count": 17,
     "metadata": {},
     "output_type": "execute_result"
    }
   ],
   "source": []
  }
 ],
 "metadata": {
  "kernelspec": {
   "display_name": "Python 3",
   "language": "python",
   "name": "python3"
  },
  "language_info": {
   "codemirror_mode": {
    "name": "ipython",
    "version": 3
   },
   "file_extension": ".py",
   "mimetype": "text/x-python",
   "name": "python",
   "nbconvert_exporter": "python",
   "pygments_lexer": "ipython3",
   "version": "3.10.11"
  },
  "orig_nbformat": 4
 },
 "nbformat": 4,
 "nbformat_minor": 2
}
